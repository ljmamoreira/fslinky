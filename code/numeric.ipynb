{
 "cells": [
  {
   "cell_type": "code",
   "execution_count": 1,
   "metadata": {},
   "outputs": [],
   "source": [
    "import numpy as np\n",
    "import matplotlib.pyplot as plt\n",
    "from scipy.integrate import solve_ivp"
   ]
  },
  {
   "cell_type": "code",
   "execution_count": 8,
   "metadata": {},
   "outputs": [],
   "source": [
    "def rhs2(t, y, k, m, g, N):\n",
    "    x, v = np.split(y, 2)\n",
    "    xdot = v\n",
    "    vdot = np.zeros_like(v)\n",
    "    vdot[0] = -N*g + k/m * (x[1] - x[0])\n",
    "    vdot[1:-1] = k/m * (x[2:] - 2*x[1:-1] + x[:-2])\n",
    "    vdot[-1] = k/m * (x[-2] - x[-1])\n",
    "    return np.hstack((xdot, vdot))"
   ]
  },
  {
   "cell_type": "code",
   "execution_count": 14,
   "metadata": {},
   "outputs": [],
   "source": [
    "#Data from our springs and masses\n",
    "L0 = 0.4639\n",
    "#l0 = L0 / (N - 1)\n",
    "KK = 0.4399\n",
    "MM = 56.6E-3\n",
    "g = 9.81"
   ]
  },
  {
   "cell_type": "code",
   "execution_count": 15,
   "metadata": {},
   "outputs": [],
   "source": [
    "# Simple run\n",
    "N = 2\n",
    "k = KK * (N - 1)\n",
    "m = MM\n",
    "x0 = np.zeros(N)\n",
    "v0 = np.zeros(N)\n",
    "y0 = np.hstack((x0, v0))\n",
    "soluc = solve_ivp(rhs2, [0, 0.4], y0, args=[k, m, g, N], max_step=0.01)\n",
    "tn = soluc.t\n",
    "xn, vn = (np.vsplit(soluc.y, 2))"
   ]
  },
  {
   "cell_type": "code",
   "execution_count": 22,
   "metadata": {},
   "outputs": [
    {
     "data": {
      "image/png": "[encoded data removed]",
      "text/plain": [
       "<Figure size 432x288 with 1 Axes>"
      ]
     },
     "metadata": {
      "needs_background": "light"
     },
     "output_type": "display_data"
    }
   ],
   "source": [
    "#plt.plot(tn, xn[0]+L0*m*g/k, tn, xn[1]);\n",
    "plt.plot(tn[:30], xn[1][:30]);"
   ]
  },
  {
   "cell_type": "code",
   "execution_count": 6,
   "metadata": {},
   "outputs": [],
   "source": [
    "# Generate data for plots of last mass for different N's\n",
    "tx_data = []\n",
    "for N in (2, 3, 4, 5):\n",
    "    k = KK * (N - 1)\n",
    "    m = MM\n",
    "    x0 = np.zeros(N)\n",
    "    v0 = np.zeros(N)\n",
    "    y0 = np.hstack((x0, v0))\n",
    "    soluc = solve_ivp(rhs2, [0, 0.4], y0, args=[k, m, g, N], max_step=0.005)\n",
    "    tn = soluc.t\n",
    "    xn, vn = (np.vsplit(soluc.y, 2))\n",
    "    tx_data.append((N,tn,xn[-1]))\n"
   ]
  },
  {
   "cell_type": "code",
   "execution_count": 7,
   "metadata": {},
   "outputs": [
    {
     "data": {
      "image/png": "[encoded data removed]",
      "text/plain": [
       "<Figure size 432x288 with 1 Axes>"
      ]
     },
     "metadata": {
      "needs_background": "light"
     },
     "output_type": "display_data"
    }
   ],
   "source": [
    "for case in tx_data:\n",
    "    t = case[1]\n",
    "    x = case[2]\n",
    "    plt.ylim([-0.05,0.005])\n",
    "    plt.plot(t, x);"
   ]
  },
  {
   "cell_type": "code",
   "execution_count": 22,
   "metadata": {},
   "outputs": [
    {
     "data": {
      "text/plain": [
       "(2,\n",
       " array([0.000e+00, 1.000e-04, 1.100e-03, 6.100e-03, 1.110e-02, 1.610e-02,\n",
       "        2.110e-02, 2.610e-02, 3.110e-02, 3.610e-02, 4.110e-02, 4.610e-02,\n",
       "        5.110e-02, 5.610e-02, 6.110e-02, 6.610e-02, 7.110e-02, 7.610e-02,\n",
       "        8.110e-02, 8.610e-02, 9.110e-02, 9.610e-02, 1.011e-01, 1.061e-01,\n",
       "        1.111e-01, 1.161e-01, 1.211e-01, 1.261e-01, 1.311e-01, 1.361e-01,\n",
       "        1.411e-01, 1.461e-01, 1.511e-01, 1.561e-01, 1.611e-01, 1.661e-01,\n",
       "        1.711e-01, 1.761e-01, 1.811e-01, 1.861e-01, 1.911e-01, 1.961e-01,\n",
       "        2.011e-01, 2.061e-01, 2.111e-01, 2.161e-01, 2.211e-01, 2.261e-01,\n",
       "        2.311e-01, 2.361e-01, 2.411e-01, 2.461e-01, 2.511e-01, 2.561e-01,\n",
       "        2.611e-01, 2.661e-01, 2.711e-01, 2.761e-01, 2.811e-01, 2.861e-01,\n",
       "        2.911e-01, 2.961e-01, 3.011e-01, 3.061e-01, 3.111e-01, 3.161e-01,\n",
       "        3.211e-01, 3.261e-01, 3.311e-01, 3.361e-01, 3.411e-01, 3.461e-01,\n",
       "        3.511e-01, 3.561e-01, 3.611e-01, 3.661e-01, 3.711e-01, 3.761e-01,\n",
       "        3.811e-01, 3.861e-01, 3.911e-01, 3.961e-01, 4.000e-01]),\n",
       " array([ 0.00000000e+00, -6.35367929e-16, -9.30241541e-12, -8.79702348e-09,\n",
       "        -9.64471479e-08, -4.26845234e-07, -1.25908461e-06, -2.94736571e-06,\n",
       "        -5.94085840e-06, -1.07835275e-05, -1.81139212e-05, -2.86649234e-05,\n",
       "        -4.32634683e-05, -6.28302195e-05, -8.83792121e-05, -1.21017459e-04,\n",
       "        -1.61944519e-04, -2.12452034e-04, -2.73923223e-04, -3.47832349e-04,\n",
       "        -4.35744143e-04, -5.39313196e-04, -6.60283317e-04, -8.00486855e-04,\n",
       "        -9.61843989e-04, -1.14636198e-03, -1.35613438e-03, -1.59334026e-03,\n",
       "        -1.86024329e-03, -2.15919093e-03, -2.49261349e-03, -2.86302317e-03,\n",
       "        -3.27301312e-03, -3.72525639e-03, -4.22250493e-03, -4.76758849e-03,\n",
       "        -5.36341354e-03, -6.01296214e-03, -6.71929076e-03, -7.48552913e-03,\n",
       "        -8.31487898e-03, -9.21061283e-03, -1.01760727e-02, -1.12146688e-02,\n",
       "        -1.23298783e-02, -1.35252438e-02, -1.48043721e-02, -1.61709328e-02,\n",
       "        -1.76286567e-02, -1.91813345e-02, -2.08328155e-02, -2.25870057e-02,\n",
       "        -2.44478666e-02, -2.64194134e-02, -2.85057138e-02, -3.07108861e-02,\n",
       "        -3.30390976e-02, -3.54945634e-02, -3.80815440e-02, -4.08043446e-02,\n",
       "        -4.36673125e-02, -4.66748362e-02, -4.98313429e-02, -5.31412977e-02,\n",
       "        -5.66092009e-02, -6.02395871e-02, -6.40370229e-02, -6.80061052e-02,\n",
       "        -7.21514596e-02, -7.64777387e-02, -8.09896197e-02, -8.56918032e-02,\n",
       "        -9.05890112e-02, -9.56859851e-02, -1.00987484e-01, -1.06498283e-01,\n",
       "        -1.12223171e-01, -1.18166949e-01, -1.24334428e-01, -1.30730428e-01,\n",
       "        -1.37359774e-01, -1.44227299e-01, -1.49752421e-01]))"
      ]
     },
     "execution_count": 22,
     "metadata": {},
     "output_type": "execute_result"
    }
   ],
   "source": [
    "tx_data[0]"
   ]
  },
  {
   "cell_type": "code",
   "execution_count": 25,
   "metadata": {},
   "outputs": [
    {
     "data": {
      "text/plain": [
       "83"
      ]
     },
     "execution_count": 25,
     "metadata": {},
     "output_type": "execute_result"
    }
   ],
   "source": [
    "len(tx_data[0][2])"
   ]
  },
  {
   "cell_type": "code",
   "execution_count": null,
   "metadata": {},
   "outputs": [],
   "source": []
  }
 ],
 "metadata": {
  "kernelspec": {
   "display_name": "Python 3 (ipykernel)",
   "language": "python",
   "name": "python3"
  },
  "language_info": {
   "codemirror_mode": {
    "name": "ipython",
    "version": 3
   },
   "file_extension": ".py",
   "mimetype": "text/x-python",
   "name": "python",
   "nbconvert_exporter": "python",
   "pygments_lexer": "ipython3",
   "version": "3.10.12"
  }
 },
 "nbformat": 4,
 "nbformat_minor": 4
}
