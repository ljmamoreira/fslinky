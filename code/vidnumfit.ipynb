{
 "cells": [
  {
   "cell_type": "code",
   "execution_count": 1,
   "metadata": {},
   "outputs": [],
   "source": [
    "import numpy as np\n",
    "import matplotlib.pyplot as plt\n",
    "from scipy.integrate import solve_ivp"
   ]
  },
  {
   "cell_type": "markdown",
   "metadata": {},
   "source": [
    "#### 1. Data from video ####"
   ]
  },
  {
   "cell_type": "code",
   "execution_count": 58,
   "metadata": {},
   "outputs": [],
   "source": [
    "data_file = \"../lab_data/video_data/20230621.txt\"\n",
    "vid_data = np.loadtxt(data_file,unpack=True)\n",
    "N = vid_data.shape[0]-1\n",
    "tl, xl = np.vsplit(vid_data, [1])\n",
    "tl = tl.reshape(-1)\n",
    "\n",
    "poly_xl = [ np.polyfit(tl, x, 9) for x in xl ]\n",
    "fxl = [ lambda t: np.polyval(px, t) for px in poly_xl ]\n",
    "pxal = np.polyfit(tl, xl[0], 9)\n",
    "fal = lambda t: np.polyval(pxal, t)"
   ]
  },
  {
   "cell_type": "code",
   "execution_count": 61,
   "metadata": {},
   "outputs": [
    {
     "data": {
      "text/plain": [
       "False"
      ]
     },
     "execution_count": 61,
     "metadata": {},
     "output_type": "execute_result"
    }
   ],
   "source": [
    "fxl[0] == fxl[1]"
   ]
  },
  {
   "cell_type": "code",
   "execution_count": 62,
   "metadata": {},
   "outputs": [
    {
     "data": {
      "image/png": "[encoded data removed]",
      "text/plain": [
       "<Figure size 432x288 with 1 Axes>"
      ]
     },
     "metadata": {
      "needs_background": "light"
     },
     "output_type": "display_data"
    }
   ],
   "source": [
    "plt.plot(tl, fxl[0](tl), tl,fxl[1](tl));"
   ]
  },
  {
   "cell_type": "markdown",
   "metadata": {},
   "source": [
    "#### 2. Numeric data ####"
   ]
  },
  {
   "cell_type": "code",
   "execution_count": 5,
   "metadata": {},
   "outputs": [],
   "source": [
    "def rhs2(t, y, k, m, g, N):\n",
    "    x, v = np.split(y, 2)\n",
    "    xdot = v\n",
    "    vdot = np.zeros_like(v)\n",
    "    vdot[0] = -N*g + k/m * (x[1] - x[0])\n",
    "    vdot[1:-1] = k/m * (x[2:] - 2*x[1:-1] + x[:-2])\n",
    "    vdot[-1] = k/m * (x[-2] - x[-1])\n",
    "    return np.hstack((xdot, vdot))"
   ]
  },
  {
   "cell_type": "code",
   "execution_count": 6,
   "metadata": {},
   "outputs": [],
   "source": [
    "#Data from our springs and masses\n",
    "L0 = 0.4639\n",
    "KK = 0.4399\n",
    "MM = 56.6E-3\n",
    "g = 9.81"
   ]
  },
  {
   "cell_type": "code",
   "execution_count": 7,
   "metadata": {},
   "outputs": [],
   "source": [
    "# Simple run\n",
    "k = KK * (N - 1)\n",
    "m = MM\n",
    "x0 = np.zeros(N)\n",
    "v0 = np.zeros(N)\n",
    "y0 = np.hstack((x0, v0))\n",
    "soluc = solve_ivp(rhs2, [0, 0.4], y0, args=[k, m, g, N], max_step=0.01)\n",
    "tn = soluc.t\n",
    "xn, vn = (np.vsplit(soluc.y, 2))"
   ]
  },
  {
   "cell_type": "code",
   "execution_count": 34,
   "metadata": {},
   "outputs": [
    {
     "data": {
      "image/png": "[encoded data removed]",
      "text/plain": [
       "<Figure size 432x288 with 1 Axes>"
      ]
     },
     "metadata": {
      "needs_background": "light"
     },
     "output_type": "display_data"
    }
   ],
   "source": [
    "dt=0.05\n",
    "dn=int(0.05/0.008)\n",
    "plt.plot(tl, xl[0],'.', tn, xl[0,0]+xn[1], tl, xl[1], '.', tn, xv[1,0]+xn[1]);"
   ]
  },
  {
   "cell_type": "code",
   "execution_count": 20,
   "metadata": {},
   "outputs": [
    {
     "data": {
      "text/plain": [
       "(50,)"
      ]
     },
     "execution_count": 20,
     "metadata": {},
     "output_type": "execute_result"
    }
   ],
   "source": [
    "tv.shape"
   ]
  },
  {
   "cell_type": "code",
   "execution_count": 21,
   "metadata": {},
   "outputs": [
    {
     "data": {
      "text/plain": [
       "(2, 50)"
      ]
     },
     "execution_count": 21,
     "metadata": {},
     "output_type": "execute_result"
    }
   ],
   "source": [
    "xv.shape"
   ]
  },
  {
   "cell_type": "code",
   "execution_count": 23,
   "metadata": {},
   "outputs": [
    {
     "data": {
      "text/plain": [
       "(44,)"
      ]
     },
     "execution_count": 23,
     "metadata": {},
     "output_type": "execute_result"
    }
   ],
   "source": [
    "xv[0,:-dn].shape"
   ]
  },
  {
   "cell_type": "code",
   "execution_count": null,
   "metadata": {},
   "outputs": [],
   "source": []
  }
 ],
 "metadata": {
  "kernelspec": {
   "display_name": "Python 3 (ipykernel)",
   "language": "python",
   "name": "python3"
  },
  "language_info": {
   "codemirror_mode": {
    "name": "ipython",
    "version": 3
   },
   "file_extension": ".py",
   "mimetype": "text/x-python",
   "name": "python",
   "nbconvert_exporter": "python",
   "pygments_lexer": "ipython3",
   "version": "3.10.12"
  }
 },
 "nbformat": 4,
 "nbformat_minor": 4
}
